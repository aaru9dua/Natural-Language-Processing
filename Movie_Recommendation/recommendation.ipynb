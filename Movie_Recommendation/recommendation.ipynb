{
 "cells": [
  {
   "cell_type": "code",
   "execution_count": null,
   "metadata": {
    "_cell_guid": "b1076dfc-b9ad-4769-8c92-a6c4dae69d19",
    "_uuid": "8f2839f25d086af736a60e9eeb907d3b93b6e0e5"
   },
   "outputs": [],
   "source": [
    "# This Python 3 environment comes with many helpful analytics libraries installed\n",
    "# It is defined by the kaggle/python Docker image: https://github.com/kaggle/docker-python\n",
    "# For example, here's several helpful packages to load\n",
    "\n",
    "# data processing, CSV file I/O (e.g. pd.read_csv)\n",
    "\n",
    "# Input data files are available in the read-only \"../input/\" directory\n",
    "# For example, running this (by clicking run or pressing Shift+Enter) will list all files under the input directory\n",
    "\n",
    "import os\n",
    "for dirname, _, filenames in os.walk('/kaggle/input'):\n",
    "    for filename in filenames:\n",
    "        print(os.path.join(dirname, filename))\n",
    "\n",
    "# You can write up to 20GB to the current directory (/kaggle/working/) that gets preserved as output when you create a version using \"Save & Run All\" \n",
    "# You can also write temporary files to /kaggle/temp/, but they won't be saved outside of the current session"
   ]
  },
  {
   "cell_type": "code",
   "execution_count": null,
   "metadata": {
    "execution": {
     "iopub.execute_input": "2021-07-27T10:46:08.640723Z",
     "iopub.status.busy": "2021-07-27T10:46:08.640081Z",
     "iopub.status.idle": "2021-07-27T10:46:08.651669Z",
     "shell.execute_reply": "2021-07-27T10:46:08.650479Z",
     "shell.execute_reply.started": "2021-07-27T10:46:08.64063Z"
    }
   },
   "outputs": [],
   "source": [
    "import numpy as np \n",
    "import pandas as pd "
   ]
  },
  {
   "cell_type": "code",
   "execution_count": null,
   "metadata": {
    "execution": {
     "iopub.execute_input": "2021-07-27T10:46:09.269509Z",
     "iopub.status.busy": "2021-07-27T10:46:09.269112Z",
     "iopub.status.idle": "2021-07-27T10:46:10.60915Z",
     "shell.execute_reply": "2021-07-27T10:46:10.608019Z",
     "shell.execute_reply.started": "2021-07-27T10:46:09.269476Z"
    }
   },
   "outputs": [],
   "source": [
    "movies = pd.read_csv('/kaggle/input/tmdb-movie-metadata/tmdb_5000_movies.csv')\n",
    "credits = pd.read_csv('/kaggle/input/tmdb-movie-metadata/tmdb_5000_credits.csv')"
   ]
  },
  {
   "cell_type": "code",
   "execution_count": null,
   "metadata": {
    "execution": {
     "iopub.execute_input": "2021-07-27T10:46:11.709829Z",
     "iopub.status.busy": "2021-07-27T10:46:11.709454Z",
     "iopub.status.idle": "2021-07-27T10:46:11.761792Z",
     "shell.execute_reply": "2021-07-27T10:46:11.760723Z",
     "shell.execute_reply.started": "2021-07-27T10:46:11.709796Z"
    }
   },
   "outputs": [],
   "source": [
    "movies.head()"
   ]
  },
  {
   "cell_type": "code",
   "execution_count": null,
   "metadata": {
    "execution": {
     "iopub.execute_input": "2021-07-27T10:46:12.959366Z",
     "iopub.status.busy": "2021-07-27T10:46:12.958954Z",
     "iopub.status.idle": "2021-07-27T10:46:12.965876Z",
     "shell.execute_reply": "2021-07-27T10:46:12.964901Z",
     "shell.execute_reply.started": "2021-07-27T10:46:12.959304Z"
    }
   },
   "outputs": [],
   "source": [
    "movies.shape"
   ]
  },
  {
   "cell_type": "code",
   "execution_count": null,
   "metadata": {
    "execution": {
     "iopub.execute_input": "2021-07-27T10:46:13.815273Z",
     "iopub.status.busy": "2021-07-27T10:46:13.814685Z",
     "iopub.status.idle": "2021-07-27T10:46:13.828207Z",
     "shell.execute_reply": "2021-07-27T10:46:13.827375Z",
     "shell.execute_reply.started": "2021-07-27T10:46:13.815222Z"
    }
   },
   "outputs": [],
   "source": [
    "credits.head()"
   ]
  },
  {
   "cell_type": "code",
   "execution_count": null,
   "metadata": {
    "execution": {
     "iopub.execute_input": "2021-07-27T10:46:14.281299Z",
     "iopub.status.busy": "2021-07-27T10:46:14.280691Z",
     "iopub.status.idle": "2021-07-27T10:46:14.314893Z",
     "shell.execute_reply": "2021-07-27T10:46:14.313699Z",
     "shell.execute_reply.started": "2021-07-27T10:46:14.281248Z"
    }
   },
   "outputs": [],
   "source": [
    "movie_rate = movies.merge(credits,on='title')"
   ]
  },
  {
   "cell_type": "code",
   "execution_count": null,
   "metadata": {
    "execution": {
     "iopub.execute_input": "2021-07-27T10:46:16.506268Z",
     "iopub.status.busy": "2021-07-27T10:46:16.505875Z",
     "iopub.status.idle": "2021-07-27T10:46:16.545675Z",
     "shell.execute_reply": "2021-07-27T10:46:16.544497Z",
     "shell.execute_reply.started": "2021-07-27T10:46:16.506231Z"
    }
   },
   "outputs": [],
   "source": [
    "movie_rate.head(2)"
   ]
  },
  {
   "cell_type": "code",
   "execution_count": null,
   "metadata": {
    "execution": {
     "iopub.execute_input": "2021-07-27T10:46:17.539984Z",
     "iopub.status.busy": "2021-07-27T10:46:17.539602Z",
     "iopub.status.idle": "2021-07-27T10:46:17.552396Z",
     "shell.execute_reply": "2021-07-27T10:46:17.551459Z",
     "shell.execute_reply.started": "2021-07-27T10:46:17.539952Z"
    }
   },
   "outputs": [],
   "source": [
    "movie_rate = movie_rate[['movie_id','title','overview','genres','keywords','cast','crew']]"
   ]
  },
  {
   "cell_type": "code",
   "execution_count": null,
   "metadata": {
    "execution": {
     "iopub.execute_input": "2021-07-27T10:46:20.638954Z",
     "iopub.status.busy": "2021-07-27T10:46:20.63853Z",
     "iopub.status.idle": "2021-07-27T10:46:20.65442Z",
     "shell.execute_reply": "2021-07-27T10:46:20.653345Z",
     "shell.execute_reply.started": "2021-07-27T10:46:20.638917Z"
    }
   },
   "outputs": [],
   "source": [
    "movie_rate.head(2)"
   ]
  },
  {
   "cell_type": "code",
   "execution_count": null,
   "metadata": {
    "execution": {
     "iopub.execute_input": "2021-07-27T10:46:21.416641Z",
     "iopub.status.busy": "2021-07-27T10:46:21.416132Z",
     "iopub.status.idle": "2021-07-27T10:46:21.430983Z",
     "shell.execute_reply": "2021-07-27T10:46:21.429822Z",
     "shell.execute_reply.started": "2021-07-27T10:46:21.416603Z"
    }
   },
   "outputs": [],
   "source": [
    "movie_rate.isnull().sum()"
   ]
  },
  {
   "cell_type": "code",
   "execution_count": null,
   "metadata": {
    "execution": {
     "iopub.execute_input": "2021-07-27T10:46:22.846721Z",
     "iopub.status.busy": "2021-07-27T10:46:22.846266Z",
     "iopub.status.idle": "2021-07-27T10:46:22.879344Z",
     "shell.execute_reply": "2021-07-27T10:46:22.878543Z",
     "shell.execute_reply.started": "2021-07-27T10:46:22.846681Z"
    }
   },
   "outputs": [],
   "source": [
    "movie_rate.dropna(inplace=True)"
   ]
  },
  {
   "cell_type": "code",
   "execution_count": null,
   "metadata": {
    "execution": {
     "iopub.execute_input": "2021-07-27T10:46:23.973686Z",
     "iopub.status.busy": "2021-07-27T10:46:23.973142Z",
     "iopub.status.idle": "2021-07-27T10:46:23.977064Z",
     "shell.execute_reply": "2021-07-27T10:46:23.976366Z",
     "shell.execute_reply.started": "2021-07-27T10:46:23.973652Z"
    }
   },
   "outputs": [],
   "source": [
    "import ast"
   ]
  },
  {
   "cell_type": "code",
   "execution_count": null,
   "metadata": {
    "execution": {
     "iopub.execute_input": "2021-07-27T10:46:24.578711Z",
     "iopub.status.busy": "2021-07-27T10:46:24.578174Z",
     "iopub.status.idle": "2021-07-27T10:46:24.583254Z",
     "shell.execute_reply": "2021-07-27T10:46:24.58243Z",
     "shell.execute_reply.started": "2021-07-27T10:46:24.578677Z"
    }
   },
   "outputs": [],
   "source": [
    "def convert(text):\n",
    "    L = []\n",
    "    for i in ast.literal_eval(text):\n",
    "        L.append(i['name']) \n",
    "    return L"
   ]
  },
  {
   "cell_type": "code",
   "execution_count": null,
   "metadata": {
    "execution": {
     "iopub.execute_input": "2021-07-27T10:46:28.589478Z",
     "iopub.status.busy": "2021-07-27T10:46:28.588932Z",
     "iopub.status.idle": "2021-07-27T10:46:28.595717Z",
     "shell.execute_reply": "2021-07-27T10:46:28.594906Z",
     "shell.execute_reply.started": "2021-07-27T10:46:28.589445Z"
    }
   },
   "outputs": [],
   "source": [
    "movie_rate['genres'][0]"
   ]
  },
  {
   "cell_type": "code",
   "execution_count": null,
   "metadata": {
    "execution": {
     "iopub.execute_input": "2021-07-27T10:46:30.872949Z",
     "iopub.status.busy": "2021-07-27T10:46:30.872409Z",
     "iopub.status.idle": "2021-07-27T10:46:31.060674Z",
     "shell.execute_reply": "2021-07-27T10:46:31.059207Z",
     "shell.execute_reply.started": "2021-07-27T10:46:30.872916Z"
    }
   },
   "outputs": [],
   "source": [
    "movie_rate['genres'] = movie_rate['genres'].apply(convert)\n",
    "movie_rate.head(2)"
   ]
  },
  {
   "cell_type": "code",
   "execution_count": null,
   "metadata": {
    "execution": {
     "iopub.execute_input": "2021-07-27T10:46:32.096404Z",
     "iopub.status.busy": "2021-07-27T10:46:32.095819Z",
     "iopub.status.idle": "2021-07-27T10:46:32.568006Z",
     "shell.execute_reply": "2021-07-27T10:46:32.567104Z",
     "shell.execute_reply.started": "2021-07-27T10:46:32.096356Z"
    }
   },
   "outputs": [],
   "source": [
    "movie_rate['keywords'] = movie_rate['keywords'].apply(convert)\n",
    "movie_rate.head(2)"
   ]
  },
  {
   "cell_type": "code",
   "execution_count": null,
   "metadata": {
    "execution": {
     "iopub.execute_input": "2021-07-27T10:46:33.038971Z",
     "iopub.status.busy": "2021-07-27T10:46:33.03842Z",
     "iopub.status.idle": "2021-07-27T10:46:33.044033Z",
     "shell.execute_reply": "2021-07-27T10:46:33.042752Z",
     "shell.execute_reply.started": "2021-07-27T10:46:33.038938Z"
    }
   },
   "outputs": [],
   "source": [
    "#top 3 actors\n",
    "def convert1(text):\n",
    "    L = []\n",
    "    counter = 0\n",
    "    for i in ast.literal_eval(text):\n",
    "        if counter != 3:\n",
    "            L.append(i['name'])\n",
    "            counter+=1\n",
    "        else:\n",
    "            break\n",
    "    return L"
   ]
  },
  {
   "cell_type": "code",
   "execution_count": null,
   "metadata": {
    "execution": {
     "iopub.execute_input": "2021-07-27T10:46:34.330815Z",
     "iopub.status.busy": "2021-07-27T10:46:34.330221Z",
     "iopub.status.idle": "2021-07-27T10:46:37.785504Z",
     "shell.execute_reply": "2021-07-27T10:46:37.784282Z",
     "shell.execute_reply.started": "2021-07-27T10:46:34.330768Z"
    }
   },
   "outputs": [],
   "source": [
    "movie_rate['cast'] = movie_rate['cast'].apply(convert1)\n",
    "movie_rate.head(2)"
   ]
  },
  {
   "cell_type": "code",
   "execution_count": null,
   "metadata": {
    "execution": {
     "iopub.execute_input": "2021-07-27T10:46:38.993743Z",
     "iopub.status.busy": "2021-07-27T10:46:38.993379Z",
     "iopub.status.idle": "2021-07-27T10:46:39.005802Z",
     "shell.execute_reply": "2021-07-27T10:46:39.004297Z",
     "shell.execute_reply.started": "2021-07-27T10:46:38.993714Z"
    }
   },
   "outputs": [],
   "source": [
    "movie_rate['crew'][0]"
   ]
  },
  {
   "cell_type": "code",
   "execution_count": null,
   "metadata": {
    "execution": {
     "iopub.execute_input": "2021-07-27T10:46:40.470058Z",
     "iopub.status.busy": "2021-07-27T10:46:40.469662Z",
     "iopub.status.idle": "2021-07-27T10:46:40.475584Z",
     "shell.execute_reply": "2021-07-27T10:46:40.474332Z",
     "shell.execute_reply.started": "2021-07-27T10:46:40.470022Z"
    }
   },
   "outputs": [],
   "source": [
    "\n",
    "def getDirector(text):\n",
    "    L = []\n",
    "    for i in ast.literal_eval(text):\n",
    "        if i['job'] == 'Director':\n",
    "            L.append(i['name'])\n",
    "    return L"
   ]
  },
  {
   "cell_type": "code",
   "execution_count": null,
   "metadata": {
    "execution": {
     "iopub.execute_input": "2021-07-27T10:46:42.706473Z",
     "iopub.status.busy": "2021-07-27T10:46:42.705943Z",
     "iopub.status.idle": "2021-07-27T10:46:46.642373Z",
     "shell.execute_reply": "2021-07-27T10:46:46.641464Z",
     "shell.execute_reply.started": "2021-07-27T10:46:42.706439Z"
    }
   },
   "outputs": [],
   "source": [
    "movie_rate['crew'] = movie_rate['crew'].apply(getDirector)\n",
    "movie_rate.head(2)"
   ]
  },
  {
   "cell_type": "code",
   "execution_count": null,
   "metadata": {
    "execution": {
     "iopub.execute_input": "2021-07-27T10:46:46.644049Z",
     "iopub.status.busy": "2021-07-27T10:46:46.643624Z",
     "iopub.status.idle": "2021-07-27T10:46:46.650299Z",
     "shell.execute_reply": "2021-07-27T10:46:46.649383Z",
     "shell.execute_reply.started": "2021-07-27T10:46:46.64402Z"
    }
   },
   "outputs": [],
   "source": [
    "movie_rate[\"overview\"][0]"
   ]
  },
  {
   "cell_type": "code",
   "execution_count": null,
   "metadata": {
    "execution": {
     "iopub.execute_input": "2021-07-27T10:46:46.652579Z",
     "iopub.status.busy": "2021-07-27T10:46:46.65223Z",
     "iopub.status.idle": "2021-07-27T10:46:46.702565Z",
     "shell.execute_reply": "2021-07-27T10:46:46.701495Z",
     "shell.execute_reply.started": "2021-07-27T10:46:46.652547Z"
    }
   },
   "outputs": [],
   "source": [
    "#to make overview column compatible to other columns\n",
    "movie_rate['overview'] = movie_rate['overview'].apply(lambda x:x.split())"
   ]
  },
  {
   "cell_type": "code",
   "execution_count": null,
   "metadata": {
    "execution": {
     "iopub.execute_input": "2021-07-27T10:46:46.704822Z",
     "iopub.status.busy": "2021-07-27T10:46:46.704395Z",
     "iopub.status.idle": "2021-07-27T10:46:46.728111Z",
     "shell.execute_reply": "2021-07-27T10:46:46.726531Z",
     "shell.execute_reply.started": "2021-07-27T10:46:46.704781Z"
    }
   },
   "outputs": [],
   "source": [
    "movie_rate.head(2)"
   ]
  },
  {
   "cell_type": "code",
   "execution_count": null,
   "metadata": {
    "execution": {
     "iopub.execute_input": "2021-07-27T10:46:46.730241Z",
     "iopub.status.busy": "2021-07-27T10:46:46.72979Z",
     "iopub.status.idle": "2021-07-27T10:46:46.744141Z",
     "shell.execute_reply": "2021-07-27T10:46:46.742402Z",
     "shell.execute_reply.started": "2021-07-27T10:46:46.73019Z"
    }
   },
   "outputs": [],
   "source": [
    "#Remove whitespace \n",
    "def collapse(L):\n",
    "    L1 = []\n",
    "    for i in L:\n",
    "        L1.append(i.replace(\" \",\"\"))\n",
    "    return L1"
   ]
  },
  {
   "cell_type": "code",
   "execution_count": null,
   "metadata": {
    "execution": {
     "iopub.execute_input": "2021-07-27T10:46:48.349529Z",
     "iopub.status.busy": "2021-07-27T10:46:48.349154Z",
     "iopub.status.idle": "2021-07-27T10:46:48.398791Z",
     "shell.execute_reply": "2021-07-27T10:46:48.397743Z",
     "shell.execute_reply.started": "2021-07-27T10:46:48.349497Z"
    }
   },
   "outputs": [],
   "source": [
    "movie_rate['cast'] = movie_rate['cast'].apply(collapse)\n",
    "movie_rate['crew'] = movie_rate['crew'].apply(collapse)\n",
    "movie_rate['genres'] = movie_rate['genres'].apply(collapse)\n",
    "movie_rate['keywords'] = movie_rate['keywords'].apply(collapse)"
   ]
  },
  {
   "cell_type": "code",
   "execution_count": null,
   "metadata": {
    "execution": {
     "iopub.execute_input": "2021-07-27T10:48:19.296704Z",
     "iopub.status.busy": "2021-07-27T10:48:19.296197Z",
     "iopub.status.idle": "2021-07-27T10:48:19.307545Z",
     "shell.execute_reply": "2021-07-27T10:48:19.305949Z",
     "shell.execute_reply.started": "2021-07-27T10:48:19.296664Z"
    }
   },
   "outputs": [],
   "source": [
    "movie_rate[\"name\"]= movie_rate['title'].apply(lambda x: x.replace(\" \", \"\"))"
   ]
  },
  {
   "cell_type": "code",
   "execution_count": null,
   "metadata": {
    "execution": {
     "iopub.execute_input": "2021-07-27T10:48:20.457445Z",
     "iopub.status.busy": "2021-07-27T10:48:20.457066Z",
     "iopub.status.idle": "2021-07-27T10:48:20.463421Z",
     "shell.execute_reply": "2021-07-27T10:48:20.461876Z",
     "shell.execute_reply.started": "2021-07-27T10:48:20.457412Z"
    }
   },
   "outputs": [],
   "source": [
    "import string\n",
    "def remove_punctuations(text):\n",
    "    for punctuation in string.punctuation:\n",
    "        text = text.replace(punctuation, ' ')\n",
    "    return text"
   ]
  },
  {
   "cell_type": "code",
   "execution_count": null,
   "metadata": {
    "execution": {
     "iopub.execute_input": "2021-07-27T10:48:22.305733Z",
     "iopub.status.busy": "2021-07-27T10:48:22.305377Z",
     "iopub.status.idle": "2021-07-27T10:48:22.340064Z",
     "shell.execute_reply": "2021-07-27T10:48:22.33892Z",
     "shell.execute_reply.started": "2021-07-27T10:48:22.305705Z"
    }
   },
   "outputs": [],
   "source": [
    "movie_rate['name']=movie_rate[\"name\"].apply(remove_punctuations)"
   ]
  },
  {
   "cell_type": "code",
   "execution_count": null,
   "metadata": {
    "execution": {
     "iopub.execute_input": "2021-07-27T10:48:23.527708Z",
     "iopub.status.busy": "2021-07-27T10:48:23.527304Z",
     "iopub.status.idle": "2021-07-27T10:48:23.545675Z",
     "shell.execute_reply": "2021-07-27T10:48:23.544339Z",
     "shell.execute_reply.started": "2021-07-27T10:48:23.527676Z"
    }
   },
   "outputs": [],
   "source": [
    "movie_rate['name'] = movie_rate['name'].apply(lambda x:x.split())"
   ]
  },
  {
   "cell_type": "code",
   "execution_count": null,
   "metadata": {
    "execution": {
     "iopub.execute_input": "2021-07-27T10:49:10.665246Z",
     "iopub.status.busy": "2021-07-27T10:49:10.664783Z",
     "iopub.status.idle": "2021-07-27T10:49:10.694716Z",
     "shell.execute_reply": "2021-07-27T10:49:10.692757Z",
     "shell.execute_reply.started": "2021-07-27T10:49:10.665209Z"
    }
   },
   "outputs": [],
   "source": [
    "movie_rate.head(2)"
   ]
  },
  {
   "cell_type": "code",
   "execution_count": null,
   "metadata": {
    "execution": {
     "iopub.execute_input": "2021-07-27T10:49:37.896903Z",
     "iopub.status.busy": "2021-07-27T10:49:37.896491Z",
     "iopub.status.idle": "2021-07-27T10:49:37.99764Z",
     "shell.execute_reply": "2021-07-27T10:49:37.996727Z",
     "shell.execute_reply.started": "2021-07-27T10:49:37.896871Z"
    }
   },
   "outputs": [],
   "source": [
    "movie_rate['tags'] = movie_rate['name']+ movie_rate['overview'] + movie_rate['genres'] + movie_rate['keywords'] + movie_rate['cast'] + movie_rate['crew']"
   ]
  },
  {
   "cell_type": "code",
   "execution_count": null,
   "metadata": {
    "execution": {
     "iopub.execute_input": "2021-07-27T10:49:39.057764Z",
     "iopub.status.busy": "2021-07-27T10:49:39.057351Z",
     "iopub.status.idle": "2021-07-27T10:49:39.089073Z",
     "shell.execute_reply": "2021-07-27T10:49:39.087818Z",
     "shell.execute_reply.started": "2021-07-27T10:49:39.05772Z"
    }
   },
   "outputs": [],
   "source": [
    "movie_rate.head(2)"
   ]
  },
  {
   "cell_type": "code",
   "execution_count": null,
   "metadata": {
    "execution": {
     "iopub.execute_input": "2021-07-27T10:49:44.572641Z",
     "iopub.status.busy": "2021-07-27T10:49:44.572198Z",
     "iopub.status.idle": "2021-07-27T10:49:44.581743Z",
     "shell.execute_reply": "2021-07-27T10:49:44.580869Z",
     "shell.execute_reply.started": "2021-07-27T10:49:44.572609Z"
    }
   },
   "outputs": [],
   "source": [
    "new = movie_rate.drop(columns=['overview','genres','keywords','cast','crew','name'])"
   ]
  },
  {
   "cell_type": "code",
   "execution_count": null,
   "metadata": {
    "execution": {
     "iopub.execute_input": "2021-07-27T10:49:45.600016Z",
     "iopub.status.busy": "2021-07-27T10:49:45.599649Z",
     "iopub.status.idle": "2021-07-27T10:49:45.632627Z",
     "shell.execute_reply": "2021-07-27T10:49:45.631099Z",
     "shell.execute_reply.started": "2021-07-27T10:49:45.599987Z"
    }
   },
   "outputs": [],
   "source": [
    "new['tags'] = new['tags'].apply(lambda x: \" \".join(x))\n",
    "new.head()"
   ]
  },
  {
   "cell_type": "code",
   "execution_count": null,
   "metadata": {
    "execution": {
     "iopub.execute_input": "2021-07-27T10:49:52.483101Z",
     "iopub.status.busy": "2021-07-27T10:49:52.482734Z",
     "iopub.status.idle": "2021-07-27T10:49:52.531848Z",
     "shell.execute_reply": "2021-07-27T10:49:52.530728Z",
     "shell.execute_reply.started": "2021-07-27T10:49:52.483071Z"
    }
   },
   "outputs": [],
   "source": [
    "\n",
    "new['tags'] = new['tags'].apply(remove_punctuations)\n",
    "new.head(2)"
   ]
  },
  {
   "cell_type": "code",
   "execution_count": null,
   "metadata": {
    "execution": {
     "iopub.execute_input": "2021-07-27T10:49:53.546066Z",
     "iopub.status.busy": "2021-07-27T10:49:53.545702Z",
     "iopub.status.idle": "2021-07-27T10:49:53.56584Z",
     "shell.execute_reply": "2021-07-27T10:49:53.564649Z",
     "shell.execute_reply.started": "2021-07-27T10:49:53.546037Z"
    }
   },
   "outputs": [],
   "source": [
    "new['tags'] = new['tags'].apply(lambda x: x.lower())\n",
    "new.head()"
   ]
  },
  {
   "cell_type": "code",
   "execution_count": null,
   "metadata": {
    "execution": {
     "iopub.execute_input": "2021-07-27T10:49:54.951455Z",
     "iopub.status.busy": "2021-07-27T10:49:54.951071Z",
     "iopub.status.idle": "2021-07-27T10:49:57.154244Z",
     "shell.execute_reply": "2021-07-27T10:49:57.15188Z",
     "shell.execute_reply.started": "2021-07-27T10:49:54.951421Z"
    }
   },
   "outputs": [],
   "source": [
    "import nltk\n",
    "from nltk.stem import PorterStemmer\n",
    "ps =PorterStemmer()\n",
    "nltk.download('stopwords')\n",
    "nltk.download('wordnet')\n",
    "stopword_list = nltk.corpus.stopwords.words('english')"
   ]
  },
  {
   "cell_type": "code",
   "execution_count": null,
   "metadata": {
    "execution": {
     "iopub.execute_input": "2021-07-27T10:49:59.909092Z",
     "iopub.status.busy": "2021-07-27T10:49:59.908742Z",
     "iopub.status.idle": "2021-07-27T10:50:07.634079Z",
     "shell.execute_reply": "2021-07-27T10:50:07.632937Z",
     "shell.execute_reply.started": "2021-07-27T10:49:59.909062Z"
    }
   },
   "outputs": [],
   "source": [
    "\n",
    "new['tags'] = new['tags'].apply(lambda x: ' '.join([i for i in x.split() if i not in stopword_list]))\n",
    "new['tags'] = new['tags'].apply(lambda x:' '.join([ps.stem(i) for i in x.split()]))\n",
    "new.head()"
   ]
  },
  {
   "cell_type": "code",
   "execution_count": null,
   "metadata": {
    "execution": {
     "iopub.execute_input": "2021-07-27T10:50:21.225536Z",
     "iopub.status.busy": "2021-07-27T10:50:21.225076Z",
     "iopub.status.idle": "2021-07-27T10:50:21.232459Z",
     "shell.execute_reply": "2021-07-27T10:50:21.2313Z",
     "shell.execute_reply.started": "2021-07-27T10:50:21.225498Z"
    }
   },
   "outputs": [],
   "source": [
    "new['tags'][0]"
   ]
  },
  {
   "cell_type": "markdown",
   "metadata": {},
   "source": [
    "# TEXT TO VECTOR"
   ]
  },
  {
   "cell_type": "code",
   "execution_count": null,
   "metadata": {
    "execution": {
     "iopub.execute_input": "2021-07-27T10:50:28.195102Z",
     "iopub.status.busy": "2021-07-27T10:50:28.19474Z",
     "iopub.status.idle": "2021-07-27T10:50:28.200057Z",
     "shell.execute_reply": "2021-07-27T10:50:28.198692Z",
     "shell.execute_reply.started": "2021-07-27T10:50:28.195073Z"
    }
   },
   "outputs": [],
   "source": [
    "from sklearn.feature_extraction.text import CountVectorizer\n",
    "cv = CountVectorizer(max_features=5000,stop_words='english')"
   ]
  },
  {
   "cell_type": "code",
   "execution_count": null,
   "metadata": {
    "execution": {
     "iopub.execute_input": "2021-07-27T10:50:30.283235Z",
     "iopub.status.busy": "2021-07-27T10:50:30.282845Z",
     "iopub.status.idle": "2021-07-27T10:50:30.898675Z",
     "shell.execute_reply": "2021-07-27T10:50:30.897612Z",
     "shell.execute_reply.started": "2021-07-27T10:50:30.2832Z"
    }
   },
   "outputs": [],
   "source": [
    "vector = cv.fit_transform(new['tags']).toarray()"
   ]
  },
  {
   "cell_type": "code",
   "execution_count": null,
   "metadata": {
    "execution": {
     "iopub.execute_input": "2021-07-27T10:50:31.572789Z",
     "iopub.status.busy": "2021-07-27T10:50:31.572415Z",
     "iopub.status.idle": "2021-07-27T10:50:31.581684Z",
     "shell.execute_reply": "2021-07-27T10:50:31.580448Z",
     "shell.execute_reply.started": "2021-07-27T10:50:31.57276Z"
    }
   },
   "outputs": [],
   "source": [
    "vector"
   ]
  },
  {
   "cell_type": "code",
   "execution_count": null,
   "metadata": {
    "execution": {
     "iopub.execute_input": "2021-07-27T10:50:34.276471Z",
     "iopub.status.busy": "2021-07-27T10:50:34.276064Z",
     "iopub.status.idle": "2021-07-27T10:50:34.283662Z",
     "shell.execute_reply": "2021-07-27T10:50:34.282058Z",
     "shell.execute_reply.started": "2021-07-27T10:50:34.276435Z"
    }
   },
   "outputs": [],
   "source": [
    "vector.shape"
   ]
  },
  {
   "cell_type": "code",
   "execution_count": null,
   "metadata": {
    "collapsed": true,
    "execution": {
     "iopub.execute_input": "2021-07-27T10:50:37.840347Z",
     "iopub.status.busy": "2021-07-27T10:50:37.839946Z",
     "iopub.status.idle": "2021-07-27T10:50:37.876522Z",
     "shell.execute_reply": "2021-07-27T10:50:37.875455Z",
     "shell.execute_reply.started": "2021-07-27T10:50:37.84029Z"
    },
    "jupyter": {
     "outputs_hidden": true
    }
   },
   "outputs": [],
   "source": [
    "cv.get_feature_names()"
   ]
  },
  {
   "cell_type": "code",
   "execution_count": null,
   "metadata": {
    "execution": {
     "iopub.execute_input": "2021-07-27T10:50:43.67461Z",
     "iopub.status.busy": "2021-07-27T10:50:43.674013Z",
     "iopub.status.idle": "2021-07-27T10:50:43.679017Z",
     "shell.execute_reply": "2021-07-27T10:50:43.677853Z",
     "shell.execute_reply.started": "2021-07-27T10:50:43.674568Z"
    }
   },
   "outputs": [],
   "source": [
    "from sklearn.metrics.pairwise import cosine_similarity"
   ]
  },
  {
   "cell_type": "code",
   "execution_count": null,
   "metadata": {
    "execution": {
     "iopub.execute_input": "2021-07-27T10:50:44.217742Z",
     "iopub.status.busy": "2021-07-27T10:50:44.21731Z",
     "iopub.status.idle": "2021-07-27T10:50:45.83957Z",
     "shell.execute_reply": "2021-07-27T10:50:45.838368Z",
     "shell.execute_reply.started": "2021-07-27T10:50:44.217692Z"
    }
   },
   "outputs": [],
   "source": [
    "similarity = cosine_similarity(vector)"
   ]
  },
  {
   "cell_type": "code",
   "execution_count": null,
   "metadata": {
    "execution": {
     "iopub.execute_input": "2021-07-27T10:50:47.729392Z",
     "iopub.status.busy": "2021-07-27T10:50:47.729002Z",
     "iopub.status.idle": "2021-07-27T10:50:47.737195Z",
     "shell.execute_reply": "2021-07-27T10:50:47.735886Z",
     "shell.execute_reply.started": "2021-07-27T10:50:47.72936Z"
    }
   },
   "outputs": [],
   "source": [
    "similarity"
   ]
  },
  {
   "cell_type": "code",
   "execution_count": null,
   "metadata": {
    "execution": {
     "iopub.execute_input": "2021-07-27T10:50:55.398345Z",
     "iopub.status.busy": "2021-07-27T10:50:55.397808Z",
     "iopub.status.idle": "2021-07-27T10:50:55.406062Z",
     "shell.execute_reply": "2021-07-27T10:50:55.404925Z",
     "shell.execute_reply.started": "2021-07-27T10:50:55.398269Z"
    }
   },
   "outputs": [],
   "source": [
    "def recommend(movie):\n",
    "    index = new[new['title'] == movie].index[0]\n",
    "    distances = sorted(list(enumerate(similarity[index])),reverse=True,key = lambda x: x[1])\n",
    "    for i in distances[1:6]:\n",
    "        print(new.iloc[i[0]].title)"
   ]
  },
  {
   "cell_type": "code",
   "execution_count": null,
   "metadata": {
    "execution": {
     "iopub.execute_input": "2021-07-27T10:51:01.70288Z",
     "iopub.status.busy": "2021-07-27T10:51:01.702207Z",
     "iopub.status.idle": "2021-07-27T10:51:01.71962Z",
     "shell.execute_reply": "2021-07-27T10:51:01.718459Z",
     "shell.execute_reply.started": "2021-07-27T10:51:01.702826Z"
    }
   },
   "outputs": [],
   "source": [
    "recommend('Men in Black')"
   ]
  },
  {
   "cell_type": "code",
   "execution_count": null,
   "metadata": {
    "execution": {
     "iopub.execute_input": "2021-07-27T10:51:12.050688Z",
     "iopub.status.busy": "2021-07-27T10:51:12.050145Z",
     "iopub.status.idle": "2021-07-27T10:51:12.055713Z",
     "shell.execute_reply": "2021-07-27T10:51:12.054555Z",
     "shell.execute_reply.started": "2021-07-27T10:51:12.050653Z"
    }
   },
   "outputs": [],
   "source": [
    "from sklearn.feature_extraction.text import TfidfVectorizer"
   ]
  },
  {
   "cell_type": "code",
   "execution_count": null,
   "metadata": {
    "execution": {
     "iopub.execute_input": "2021-07-27T10:51:14.631152Z",
     "iopub.status.busy": "2021-07-27T10:51:14.63049Z",
     "iopub.status.idle": "2021-07-27T10:51:15.797478Z",
     "shell.execute_reply": "2021-07-27T10:51:15.796297Z",
     "shell.execute_reply.started": "2021-07-27T10:51:14.6311Z"
    }
   },
   "outputs": [],
   "source": [
    "tfidf = TfidfVectorizer().fit_transform(new['tags']).toarray()"
   ]
  },
  {
   "cell_type": "code",
   "execution_count": null,
   "metadata": {
    "execution": {
     "iopub.execute_input": "2021-07-27T10:51:16.03138Z",
     "iopub.status.busy": "2021-07-27T10:51:16.030971Z",
     "iopub.status.idle": "2021-07-27T10:51:25.74238Z",
     "shell.execute_reply": "2021-07-27T10:51:25.741024Z",
     "shell.execute_reply.started": "2021-07-27T10:51:16.031344Z"
    }
   },
   "outputs": [],
   "source": [
    "similarity1 = cosine_similarity(tfidf)"
   ]
  },
  {
   "cell_type": "code",
   "execution_count": null,
   "metadata": {
    "execution": {
     "iopub.execute_input": "2021-07-27T10:51:27.560798Z",
     "iopub.status.busy": "2021-07-27T10:51:27.560287Z",
     "iopub.status.idle": "2021-07-27T10:51:27.565641Z",
     "shell.execute_reply": "2021-07-27T10:51:27.564834Z",
     "shell.execute_reply.started": "2021-07-27T10:51:27.560765Z"
    }
   },
   "outputs": [],
   "source": [
    "def recommend1(movie):\n",
    "    index = new[new['title'] == movie].index[0]\n",
    "    distances = sorted(list(enumerate(similarity1[index])),reverse=True,key = lambda x: x[1])\n",
    "    for i in distances[1:6]:\n",
    "        print(new.iloc[i[0]].title)"
   ]
  },
  {
   "cell_type": "code",
   "execution_count": null,
   "metadata": {
    "execution": {
     "iopub.execute_input": "2021-07-27T10:51:37.717306Z",
     "iopub.status.busy": "2021-07-27T10:51:37.716757Z",
     "iopub.status.idle": "2021-07-27T10:51:37.733348Z",
     "shell.execute_reply": "2021-07-27T10:51:37.731923Z",
     "shell.execute_reply.started": "2021-07-27T10:51:37.717263Z"
    }
   },
   "outputs": [],
   "source": [
    "recommend1('Men in Black')"
   ]
  },
  {
   "cell_type": "code",
   "execution_count": null,
   "metadata": {
    "execution": {
     "iopub.execute_input": "2021-07-27T10:51:49.334474Z",
     "iopub.status.busy": "2021-07-27T10:51:49.333869Z",
     "iopub.status.idle": "2021-07-27T10:51:49.339838Z",
     "shell.execute_reply": "2021-07-27T10:51:49.338404Z",
     "shell.execute_reply.started": "2021-07-27T10:51:49.334422Z"
    }
   },
   "outputs": [],
   "source": [
    "import pickle"
   ]
  },
  {
   "cell_type": "code",
   "execution_count": null,
   "metadata": {},
   "outputs": [],
   "source": [
    "new.to_pickle('data.pkl')"
   ]
  },
  {
   "cell_type": "code",
   "execution_count": null,
   "metadata": {
    "execution": {
     "iopub.execute_input": "2021-07-27T11:06:03.180444Z",
     "iopub.status.busy": "2021-07-27T11:06:03.180029Z",
     "iopub.status.idle": "2021-07-27T11:06:03.521669Z",
     "shell.execute_reply": "2021-07-27T11:06:03.520468Z",
     "shell.execute_reply.started": "2021-07-27T11:06:03.180411Z"
    }
   },
   "outputs": [],
   "source": [
    "pickle.dump(new,open('movieRating.pkl','wb'))\n",
    "pickle.dump(similarity1,open('similarityScore.pkl','wb'))"
   ]
  }
 ],
 "metadata": {
  "kernelspec": {
   "display_name": "Python 3",
   "language": "python",
   "name": "python3"
  },
  "language_info": {
   "codemirror_mode": {
    "name": "ipython",
    "version": 3
   },
   "file_extension": ".py",
   "mimetype": "text/x-python",
   "name": "python",
   "nbconvert_exporter": "python",
   "pygments_lexer": "ipython3",
   "version": "3.7.11"
  },
  "toc": {
   "base_numbering": 1,
   "nav_menu": {},
   "number_sections": true,
   "sideBar": true,
   "skip_h1_title": false,
   "title_cell": "Table of Contents",
   "title_sidebar": "Contents",
   "toc_cell": false,
   "toc_position": {},
   "toc_section_display": true,
   "toc_window_display": false
  },
  "varInspector": {
   "cols": {
    "lenName": 16,
    "lenType": 16,
    "lenVar": 40
   },
   "kernels_config": {
    "python": {
     "delete_cmd_postfix": "",
     "delete_cmd_prefix": "del ",
     "library": "var_list.py",
     "varRefreshCmd": "print(var_dic_list())"
    },
    "r": {
     "delete_cmd_postfix": ") ",
     "delete_cmd_prefix": "rm(",
     "library": "var_list.r",
     "varRefreshCmd": "cat(var_dic_list()) "
    }
   },
   "types_to_exclude": [
    "module",
    "function",
    "builtin_function_or_method",
    "instance",
    "_Feature"
   ],
   "window_display": false
  }
 },
 "nbformat": 4,
 "nbformat_minor": 4
}
