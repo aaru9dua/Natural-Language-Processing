{
 "cells": [
  {
   "cell_type": "code",
   "execution_count": 1,
   "metadata": {},
   "outputs": [
    {
     "name": "stdout",
     "output_type": "stream",
     "text": [
      "importing Jupyter notebook from Sentiment_Analysis2.ipynb\n"
     ]
    },
    {
     "name": "stderr",
     "output_type": "stream",
     "text": [
      "[nltk_data] Downloading package stopwords to\n",
      "[nltk_data]     C:\\Users\\HP\\AppData\\Roaming\\nltk_data...\n",
      "[nltk_data]   Package stopwords is already up-to-date!\n",
      "[nltk_data] Downloading package punkt to\n",
      "[nltk_data]     C:\\Users\\HP\\AppData\\Roaming\\nltk_data...\n",
      "[nltk_data]   Package punkt is already up-to-date!\n",
      "[nltk_data] Downloading package averaged_perceptron_tagger to\n",
      "[nltk_data]     C:\\Users\\HP\\AppData\\Roaming\\nltk_data...\n",
      "[nltk_data]   Package averaged_perceptron_tagger is already up-to-\n",
      "[nltk_data]       date!\n"
     ]
    },
    {
     "name": "stdout",
     "output_type": "stream",
     "text": [
      "Classifier accuracy percent: 81.41452584839836\n",
      "Most Informative Features\n",
      "               difficult = True           Negati : Positi =     54.9 : 1.0\n",
      "               political = True           Negati : Positi =     34.2 : 1.0\n",
      "                    poor = True           Negati : Positi =     25.6 : 1.0\n",
      "                     due = True           Negati : Positi =     20.9 : 1.0\n",
      "             bureaucracy = True           Negati : Positi =     20.9 : 1.0\n",
      "                   perks = True           Positi : Negati =     20.8 : 1.0\n",
      "                 awesome = True           Positi : Negati =     19.1 : 1.0\n",
      "                     too = True           Negati : Positi =     18.7 : 1.0\n",
      "                   tough = True           Negati : Positi =     18.3 : 1.0\n",
      "                   often = True           Negati : Positi =     15.2 : 1.0\n",
      "                     gym = True           Positi : Negati =     15.0 : 1.0\n",
      "                exciting = True           Positi : Negati =     14.4 : 1.0\n",
      "                    lack = True           Negati : Positi =     13.8 : 1.0\n",
      "                    edge = True           Positi : Negati =     13.7 : 1.0\n",
      "               stressful = True           Negati : Positi =     13.4 : 1.0\n",
      "MNB_classifier accuracy percent: 83.3174754202347\n",
      "LogisticRegression_classifier accuracy percent: 84.42752933713923\n",
      "LinearSVC_classifier accuracy percent: 83.47605455122105\n",
      "SGDClassifier_classifier accuracy percent: 83.38090707262924\n",
      "BernoulliNB_classifier accuracy percent: 81.28766254360926\n"
     ]
    }
   ],
   "source": [
    "import import_ipynb\n",
    "import Sentiment_Analysis2 as s"
   ]
  },
  {
   "cell_type": "code",
   "execution_count": 7,
   "metadata": {},
   "outputs": [],
   "source": [
    "\n",
    "def feedback():\n",
    "    \n",
    "    f = open(\"Feedback_questions.txt\", \"r\")\n",
    "    print(\"-\"*10,\"EMPLOYEE FEEDBACK ANALYSIS\",\"-\"*10)\n",
    "    name=input(\"Name of employee:\")\n",
    "    print(\"Fill the form\")\n",
    "    count_pos=0\n",
    "    count_neg=0\n",
    "    for x in f:\n",
    "        print(x)\n",
    "        ans=input(\"ans-\")\n",
    "        score=s.sentiment(ans)\n",
    "        print(score)\n",
    "        if score==\"Positive\":\n",
    "           count_pos=count_pos + 1\n",
    "        else:\n",
    "           count_neg=count_neg +1\n",
    "    print(\"10 feedback out of which %d positive feedback and %d negative feedback \"%(count_pos,count_neg))\n",
    "\n",
    "    pos_polarity=count_pos/10\n",
    "    neg_polarity=count_neg/10\n",
    "    print(name,\"-\",pos_polarity,\" postivie polarity  \",neg_polarity,\"negative_polarity\")\n",
    "\n",
    "\n"
   ]
  },
  {
   "cell_type": "code",
   "execution_count": 8,
   "metadata": {},
   "outputs": [
    {
     "name": "stdout",
     "output_type": "stream",
     "text": [
      "---------- EMPLOYEE FEEDBACK ANALYSIS ----------\n",
      "Name of employee:Aarushi\n",
      "Fill the form\n",
      "1. Do you feel like you can share your honest thoughts with your supervisor?\n",
      "\n",
      "ans-yes he is very friendly\n",
      "Positive\n",
      "2.Do you have the opportunity to grow within your organization?\n",
      "\n",
      "ans-good\n",
      "Positive\n",
      "3.What do you think about the compensation and promotion decisions given by your organization?\n",
      "\n",
      "ans-bad\n",
      "Negative\n",
      "4.Are you happy with the frequency at which you receive recognition from your manager?\n",
      "\n",
      "ans-netural\n",
      "Negative\n",
      "5.How would you describe your relationship with your co-workers?\n",
      "\n",
      "ans-i am happy\n",
      "Positive\n",
      "6.Do you have the access to the learning and development opportunities?\n",
      "\n",
      "ans-not at all\n",
      "Negative\n",
      "7.Are you satisfied with the level of comfort in your physical workplace?\n",
      "\n",
      "ans-nice workplace\n",
      "Positive\n",
      "8.Are you inspired by the purpose and mission of your work culture?\n",
      "\n",
      "ans-no \n",
      "Negative\n",
      "9. Do you think that your responsibilities are clear?\n",
      "\n",
      "ans-pretty much\n",
      "Negative\n",
      "10.Do you recommend your organization as a good place to work?\n",
      "ans-no\n",
      "Negative\n",
      "10 feedback out of which 4 positive feedback and 6 negative feedback \n",
      "Aarushi - 0.4  postivie polarity   0.6 negative_polarity\n"
     ]
    }
   ],
   "source": [
    "feedback()"
   ]
  },
  {
   "cell_type": "code",
   "execution_count": null,
   "metadata": {},
   "outputs": [],
   "source": []
  }
 ],
 "metadata": {
  "kernelspec": {
   "display_name": "Python 3",
   "language": "python",
   "name": "python3"
  },
  "language_info": {
   "codemirror_mode": {
    "name": "ipython",
    "version": 3
   },
   "file_extension": ".py",
   "mimetype": "text/x-python",
   "name": "python",
   "nbconvert_exporter": "python",
   "pygments_lexer": "ipython3",
   "version": "3.7.6"
  }
 },
 "nbformat": 4,
 "nbformat_minor": 4
}
