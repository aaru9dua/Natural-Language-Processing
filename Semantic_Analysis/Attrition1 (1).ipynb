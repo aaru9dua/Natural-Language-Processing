{
 "cells": [
  {
   "cell_type": "code",
   "execution_count": 47,
   "metadata": {
    "colab": {
     "base_uri": "https://localhost:8080/",
     "height": 84
    },
    "colab_type": "code",
    "id": "TRY_JGB-ztRU",
    "outputId": "a1feb07a-619f-49bc-fee5-918680659a3b"
   },
   "outputs": [
    {
     "name": "stdout",
     "output_type": "stream",
     "text": [
      "[nltk_data] Downloading package stopwords to /root/nltk_data...\n",
      "[nltk_data]   Package stopwords is already up-to-date!\n",
      "[nltk_data] Downloading package wordnet to /root/nltk_data...\n",
      "[nltk_data]   Package wordnet is already up-to-date!\n"
     ]
    }
   ],
   "source": [
    "import numpy as np\n",
    "import pandas as pd\n",
    "\n",
    "import sklearn.feature_extraction.text as text\n",
    "from sklearn import model_selection, preprocessing, linear_model, naive_bayes, metrics, svm\n",
    "from sklearn.naive_bayes import MultinomialNB\n",
    "from sklearn.linear_model import LogisticRegression\n",
    "from sklearn.ensemble import RandomForestClassifier\n",
    "from sklearn.svm import LinearSVC\n",
    "from sklearn.model_selection import cross_val_score\n",
    "from sklearn.model_selection import train_test_split\n",
    "\n",
    "from textblob import TextBlob\n",
    "from textblob import Word\n",
    "from sklearn.feature_extraction.text import CountVectorizer,TfidfVectorizer\n",
    "from nltk.corpus import stopwords\n",
    "\n",
    "\n",
    "\n",
    "import string\n",
    "import itertools\n",
    "\n",
    "import matplotlib.pyplot as plt\n",
    "import re\n",
    "import nltk\n",
    "\n",
    "nltk.download('stopwords')\n",
    "nltk.download('wordnet')\n",
    "tokenizer = ToktokTokenizer()\n",
    "stopword_list = nltk.corpus.stopwords.words('english')   "
   ]
  },
  {
   "cell_type": "code",
   "execution_count": 48,
   "metadata": {
    "colab": {},
    "colab_type": "code",
    "id": "W8CcKJ7Bz_y7"
   },
   "outputs": [],
   "source": [
    "df1 = pd.read_excel(\"Train.xlsx\")"
   ]
  },
  {
   "cell_type": "code",
   "execution_count": 49,
   "metadata": {
    "colab": {},
    "colab_type": "code",
    "id": "BEp75M2j-ery"
   },
   "outputs": [],
   "source": [
    "from sklearn.utils import shuffle\n",
    "df1 = shuffle(df1)"
   ]
  },
  {
   "cell_type": "code",
   "execution_count": 50,
   "metadata": {
    "colab": {
     "base_uri": "https://localhost:8080/",
     "height": 1000
    },
    "colab_type": "code",
    "id": "uQxR84KU-o6X",
    "outputId": "a88c4faf-e5d6-45d0-eaa3-dd0e00385119"
   },
   "outputs": [
    {
     "data": {
      "text/html": [
       "<div>\n",
       "<style scoped>\n",
       "    .dataframe tbody tr th:only-of-type {\n",
       "        vertical-align: middle;\n",
       "    }\n",
       "\n",
       "    .dataframe tbody tr th {\n",
       "        vertical-align: top;\n",
       "    }\n",
       "\n",
       "    .dataframe thead th {\n",
       "        text-align: right;\n",
       "    }\n",
       "</style>\n",
       "<table border=\"1\" class=\"dataframe\">\n",
       "  <thead>\n",
       "    <tr style=\"text-align: right;\">\n",
       "      <th></th>\n",
       "      <th>Exit_Type_Reasons</th>\n",
       "      <th>Parameters</th>\n",
       "    </tr>\n",
       "  </thead>\n",
       "  <tbody>\n",
       "    <tr>\n",
       "      <th>14</th>\n",
       "      <td>Family Issues</td>\n",
       "      <td>Family Problem</td>\n",
       "    </tr>\n",
       "    <tr>\n",
       "      <th>0</th>\n",
       "      <td>Termination</td>\n",
       "      <td>Age</td>\n",
       "    </tr>\n",
       "    <tr>\n",
       "      <th>19</th>\n",
       "      <td>Inter Org Transfer</td>\n",
       "      <td>Redeployment</td>\n",
       "    </tr>\n",
       "    <tr>\n",
       "      <th>2</th>\n",
       "      <td>Decease</td>\n",
       "      <td>Age</td>\n",
       "    </tr>\n",
       "    <tr>\n",
       "      <th>11</th>\n",
       "      <td>Distance/Travel time</td>\n",
       "      <td>DistanceFromHome</td>\n",
       "    </tr>\n",
       "    <tr>\n",
       "      <th>37</th>\n",
       "      <td>Behavior Issue</td>\n",
       "      <td>supervisor dissatisfaction</td>\n",
       "    </tr>\n",
       "    <tr>\n",
       "      <th>23</th>\n",
       "      <td>Better Career Opportunity</td>\n",
       "      <td>growth-career progression</td>\n",
       "    </tr>\n",
       "    <tr>\n",
       "      <th>38</th>\n",
       "      <td>Higher studies</td>\n",
       "      <td>higher education</td>\n",
       "    </tr>\n",
       "    <tr>\n",
       "      <th>9</th>\n",
       "      <td>Location Issue</td>\n",
       "      <td>DistanceFromHome</td>\n",
       "    </tr>\n",
       "    <tr>\n",
       "      <th>17</th>\n",
       "      <td>Marriage</td>\n",
       "      <td>Marriage</td>\n",
       "    </tr>\n",
       "    <tr>\n",
       "      <th>12</th>\n",
       "      <td>Voluntary Personal - Relocating to home town</td>\n",
       "      <td>DistanceFromHome</td>\n",
       "    </tr>\n",
       "    <tr>\n",
       "      <th>29</th>\n",
       "      <td>Poor performance</td>\n",
       "      <td>PerformanceRating</td>\n",
       "    </tr>\n",
       "    <tr>\n",
       "      <th>21</th>\n",
       "      <td>Relocation</td>\n",
       "      <td>Redeployment</td>\n",
       "    </tr>\n",
       "    <tr>\n",
       "      <th>26</th>\n",
       "      <td>Left without Intimation</td>\n",
       "      <td>communication gap</td>\n",
       "    </tr>\n",
       "    <tr>\n",
       "      <th>32</th>\n",
       "      <td>Downsizing</td>\n",
       "      <td>PerformanceRating</td>\n",
       "    </tr>\n",
       "    <tr>\n",
       "      <th>20</th>\n",
       "      <td>Voluntary Workplace - transfer-related</td>\n",
       "      <td>Redeployment</td>\n",
       "    </tr>\n",
       "    <tr>\n",
       "      <th>25</th>\n",
       "      <td>Job abandonment</td>\n",
       "      <td>communication gap</td>\n",
       "    </tr>\n",
       "    <tr>\n",
       "      <th>34</th>\n",
       "      <td>Supervisory Concern</td>\n",
       "      <td>supervisor dissatisfaction</td>\n",
       "    </tr>\n",
       "    <tr>\n",
       "      <th>27</th>\n",
       "      <td>Personal</td>\n",
       "      <td>communication gap</td>\n",
       "    </tr>\n",
       "    <tr>\n",
       "      <th>41</th>\n",
       "      <td>Work pressure</td>\n",
       "      <td>High pressure job</td>\n",
       "    </tr>\n",
       "    <tr>\n",
       "      <th>4</th>\n",
       "      <td>Health reasons</td>\n",
       "      <td>Medical Problems</td>\n",
       "    </tr>\n",
       "    <tr>\n",
       "      <th>13</th>\n",
       "      <td>Family pressure</td>\n",
       "      <td>Family Problem</td>\n",
       "    </tr>\n",
       "    <tr>\n",
       "      <th>18</th>\n",
       "      <td>Interorganization Transfer</td>\n",
       "      <td>Redeployment</td>\n",
       "    </tr>\n",
       "    <tr>\n",
       "      <th>5</th>\n",
       "      <td>Due to Health Issue</td>\n",
       "      <td>Medical Problems</td>\n",
       "    </tr>\n",
       "    <tr>\n",
       "      <th>40</th>\n",
       "      <td>High Work Pressure</td>\n",
       "      <td>High pressure job</td>\n",
       "    </tr>\n",
       "    <tr>\n",
       "      <th>39</th>\n",
       "      <td>Resignation</td>\n",
       "      <td>High pressure job</td>\n",
       "    </tr>\n",
       "    <tr>\n",
       "      <th>8</th>\n",
       "      <td>Distance between Office and Home</td>\n",
       "      <td>DistanceFromHome</td>\n",
       "    </tr>\n",
       "    <tr>\n",
       "      <th>24</th>\n",
       "      <td>Career Growth</td>\n",
       "      <td>growth-career progression</td>\n",
       "    </tr>\n",
       "    <tr>\n",
       "      <th>7</th>\n",
       "      <td>Medical Issues</td>\n",
       "      <td>Medical Problems</td>\n",
       "    </tr>\n",
       "    <tr>\n",
       "      <th>35</th>\n",
       "      <td>Voluntary Workplace - interpersonal issues wit...</td>\n",
       "      <td>supervisor dissatisfaction</td>\n",
       "    </tr>\n",
       "    <tr>\n",
       "      <th>1</th>\n",
       "      <td>Demise</td>\n",
       "      <td>Age</td>\n",
       "    </tr>\n",
       "    <tr>\n",
       "      <th>31</th>\n",
       "      <td>Unsatisfactory Performance</td>\n",
       "      <td>PerformanceRating</td>\n",
       "    </tr>\n",
       "    <tr>\n",
       "      <th>42</th>\n",
       "      <td>Higher Studies</td>\n",
       "      <td>higher education</td>\n",
       "    </tr>\n",
       "    <tr>\n",
       "      <th>22</th>\n",
       "      <td>Extensive Travel</td>\n",
       "      <td>BusinessTravel</td>\n",
       "    </tr>\n",
       "    <tr>\n",
       "      <th>3</th>\n",
       "      <td>Medical Reason</td>\n",
       "      <td>Medical Problems</td>\n",
       "    </tr>\n",
       "    <tr>\n",
       "      <th>36</th>\n",
       "      <td>Dissatisfaction with supervisor</td>\n",
       "      <td>supervisor dissatisfaction</td>\n",
       "    </tr>\n",
       "    <tr>\n",
       "      <th>16</th>\n",
       "      <td>Voluntary Personal - Marriage</td>\n",
       "      <td>Marriage</td>\n",
       "    </tr>\n",
       "    <tr>\n",
       "      <th>15</th>\n",
       "      <td>Voluntary Personal - Family Issues</td>\n",
       "      <td>Family Problem</td>\n",
       "    </tr>\n",
       "    <tr>\n",
       "      <th>30</th>\n",
       "      <td>Performance Related</td>\n",
       "      <td>PerformanceRating</td>\n",
       "    </tr>\n",
       "    <tr>\n",
       "      <th>10</th>\n",
       "      <td>Voluntary Personal - Distance between office a...</td>\n",
       "      <td>DistanceFromHome</td>\n",
       "    </tr>\n",
       "    <tr>\n",
       "      <th>28</th>\n",
       "      <td>Personal Reason</td>\n",
       "      <td>communication gap</td>\n",
       "    </tr>\n",
       "    <tr>\n",
       "      <th>6</th>\n",
       "      <td>Voluntary Personal - Health</td>\n",
       "      <td>Medical Problems</td>\n",
       "    </tr>\n",
       "    <tr>\n",
       "      <th>33</th>\n",
       "      <td>Misconduct</td>\n",
       "      <td>supervisor dissatisfaction</td>\n",
       "    </tr>\n",
       "  </tbody>\n",
       "</table>\n",
       "</div>"
      ],
      "text/plain": [
       "                                    Exit_Type_Reasons                 Parameters \n",
       "14                                      Family Issues              Family Problem\n",
       "0                                         Termination                         Age\n",
       "19                                Inter Org Transfer                 Redeployment\n",
       "2                                             Decease                         Age\n",
       "11                               Distance/Travel time            DistanceFromHome\n",
       "37                                     Behavior Issue  supervisor dissatisfaction\n",
       "23                          Better Career Opportunity   growth-career progression\n",
       "38                                     Higher studies            higher education\n",
       "9                                     Location Issue             DistanceFromHome\n",
       "17                                           Marriage                    Marriage\n",
       "12       Voluntary Personal - Relocating to home town            DistanceFromHome\n",
       "29                                   Poor performance           PerformanceRating\n",
       "21                                         Relocation                Redeployment\n",
       "26                            Left without Intimation           communication gap\n",
       "32                                         Downsizing           PerformanceRating\n",
       "20             Voluntary Workplace - transfer-related                Redeployment\n",
       "25                                    Job abandonment           communication gap\n",
       "34                               Supervisory Concern   supervisor dissatisfaction\n",
       "27                                          Personal            communication gap\n",
       "41                                      Work pressure           High pressure job\n",
       "4                                      Health reasons           Medical Problems \n",
       "13                                    Family pressure              Family Problem\n",
       "18                         Interorganization Transfer                Redeployment\n",
       "5                                 Due to Health Issue           Medical Problems \n",
       "40                                 High Work Pressure           High pressure job\n",
       "39                                        Resignation           High pressure job\n",
       "8                    Distance between Office and Home            DistanceFromHome\n",
       "24                                     Career Growth    growth-career progression\n",
       "7                                      Medical Issues           Medical Problems \n",
       "35  Voluntary Workplace - interpersonal issues wit...  supervisor dissatisfaction\n",
       "1                                              Demise                         Age\n",
       "31                         Unsatisfactory Performance           PerformanceRating\n",
       "42                                    Higher Studies             higher education\n",
       "22                                   Extensive Travel              BusinessTravel\n",
       "3                                      Medical Reason           Medical Problems \n",
       "36                    Dissatisfaction with supervisor  supervisor dissatisfaction\n",
       "16                      Voluntary Personal - Marriage                    Marriage\n",
       "15                 Voluntary Personal - Family Issues              Family Problem\n",
       "30                                Performance Related           PerformanceRating\n",
       "10  Voluntary Personal - Distance between office a...            DistanceFromHome\n",
       "28                                    Personal Reason           communication gap\n",
       "6                         Voluntary Personal - Health           Medical Problems \n",
       "33                                         Misconduct  supervisor dissatisfaction"
      ]
     },
     "execution_count": 50,
     "metadata": {
      "tags": []
     },
     "output_type": "execute_result"
    }
   ],
   "source": [
    "df1"
   ]
  },
  {
   "cell_type": "code",
   "execution_count": 51,
   "metadata": {
    "colab": {},
    "colab_type": "code",
    "id": "DhDkm8lf0Y9K"
   },
   "outputs": [],
   "source": [
    "df1['Exit_Type_Reasons'] =df1['Exit_Type_Reasons'].apply(lambda x: ' '.join([i.lower() for i in x.split()]))\n",
    "df1['Exit_Type_Reasons'] =df1['Exit_Type_Reasons'].str.replace(r'[^\\w\\s]',\"\")"
   ]
  },
  {
   "cell_type": "code",
   "execution_count": 52,
   "metadata": {
    "colab": {},
    "colab_type": "code",
    "id": "1pkXP8682jMx"
   },
   "outputs": [],
   "source": [
    "df1['Exit_Type_Reasons'] =df1['Exit_Type_Reasons'].apply(lambda x: ' '.join([i for i in x.split() if i not in stopword_list]))"
   ]
  },
  {
   "cell_type": "code",
   "execution_count": 53,
   "metadata": {
    "colab": {},
    "colab_type": "code",
    "id": "8bj-u9tn3PFN"
   },
   "outputs": [],
   "source": [
    "df1['Exit_Type_Reasons'] =df1['Exit_Type_Reasons'].apply(lambda x: str(TextBlob(x).correct()))"
   ]
  },
  {
   "cell_type": "code",
   "execution_count": 54,
   "metadata": {
    "colab": {},
    "colab_type": "code",
    "id": "AG-h_3-v6HaC"
   },
   "outputs": [],
   "source": [
    "df1['Exit_Type_Reasons'] =df1['Exit_Type_Reasons'].apply(lambda x:' '.join([Word(i).lemmatize() for i in x.split()]))"
   ]
  },
  {
   "cell_type": "code",
   "execution_count": 55,
   "metadata": {
    "colab": {},
    "colab_type": "code",
    "id": "vCaL1IF67AUL"
   },
   "outputs": [],
   "source": [
    "df1=df1[df1[\"Parameters \"]  != 'BusinessTravel']\n"
   ]
  },
  {
   "cell_type": "markdown",
   "metadata": {},
   "source": [
    "<b> Label encoding"
   ]
  },
  {
   "cell_type": "code",
   "execution_count": 113,
   "metadata": {
    "colab": {},
    "colab_type": "code",
    "id": "Hw7FiZkc6wcM"
   },
   "outputs": [],
   "source": [
    "enc = preprocessing.LabelEncoder()\n",
    "para1= enc.fit_transform(df1['Parameters '])"
   ]
  },
  {
   "cell_type": "code",
   "execution_count": 115,
   "metadata": {
    "colab": {},
    "colab_type": "code",
    "id": "4wBTJOBk6fod"
   },
   "outputs": [],
   "source": [
    "train_x, valid_x, train_y, valid_y = train_test_split(df1['Exit_Type_Reasons'], para1,stratify=para1, \n",
    "                                           cf5         test_size=0.3)"
   ]
  },
  {
   "cell_type": "markdown",
   "metadata": {},
   "source": [
    "<b>Feautre Extraction"
   ]
  },
  {
   "cell_type": "code",
   "execution_count": 116,
   "metadata": {
    "colab": {},
    "colab_type": "code",
    "id": "480L7Qp78ofq"
   },
   "outputs": [],
   "source": [
    "from sklearn.feature_extraction.text import TfidfVectorizer\n",
    "tfidf_vect = TfidfVectorizer(analyzer='word', token_pattern=r'\\w{1,}', max_features=5000)\n",
    "tfidf_vect.fit(df1['Exit_Type_Reasons'])\n"
   ]
  },
  {
   "cell_type": "code",
   "execution_count": null,
   "metadata": {},
   "outputs": [],
   "source": [
    "Model evaluatio"
   ]
  },
  {
   "cell_type": "code",
   "execution_count": null,
   "metadata": {},
   "outputs": [],
   "source": [
    "xtrain_tfidf =  tfidf_vect.transform(train_x)\n",
    "xvalid_tfidf =  tfidf_vect.transform(valid_x)"
   ]
  },
  {
   "cell_type": "code",
   "execution_count": 117,
   "metadata": {
    "colab": {
     "base_uri": "https://localhost:8080/",
     "height": 288
    },
    "colab_type": "code",
    "id": "HLChsB4h8wjX",
    "outputId": "1364bd60-61a1-44c3-bc99-2a42633d00d7"
   },
   "outputs": [
    {
     "name": "stderr",
     "output_type": "stream",
     "text": [
      "/usr/local/lib/python3.6/dist-packages/sklearn/model_selection/_split.py:667: UserWarning: The least populated class in y has only 1 members, which is less than n_splits=2.\n",
      "  % (min_groups, self.n_splits)), UserWarning)\n"
     ]
    },
    {
     "data": {
      "text/plain": [
       "GridSearchCV(cv=2, error_score=nan,\n",
       "             estimator=LogisticRegression(C=1.0, class_weight=None, dual=False,\n",
       "                                          fit_intercept=True,\n",
       "                                          intercept_scaling=1, l1_ratio=None,\n",
       "                                          max_iter=100, multi_class='auto',\n",
       "                                          n_jobs=None, penalty='l2',\n",
       "                                          random_state=None, solver='lbfgs',\n",
       "                                          tol=0.0001, verbose=0,\n",
       "                                          warm_start=False),\n",
       "             iid='deprecated', n_jobs=-1,\n",
       "             param_grid={'C': [1, 12, 23, 34, 45, 56, 67, 78, 89, 100]},\n",
       "             pre_dispatch='2*n_jobs', refit=True, return_train_score=False,\n",
       "             scoring=None, verbose=0)"
      ]
     },
     "execution_count": 117,
     "metadata": {
      "tags": []
     },
     "output_type": "execute_result"
    }
   ],
   "source": [
    "from sklearn.model_selection import GridSearchCV\n",
    "clf = LogisticRegression()\n",
    "lr_params = {'C':[int(x) for x in np.linspace(1,100,10)]}\n",
    "grid_lr = GridSearchCV(estimator=clf,param_grid=lr_params,cv=2,n_jobs=-1)\n",
    "grid_lr.fit(xtrain_tfidf,train_y)"
   ]
  },
  {
   "cell_type": "code",
   "execution_count": 179,
   "metadata": {
    "colab": {
     "base_uri": "https://localhost:8080/",
     "height": 33
    },
    "colab_type": "code",
    "id": "q1N9SfAj8_-f",
    "outputId": "17f37457-8205-4877-ef5e-d8c121a24013"
   },
   "outputs": [
    {
     "name": "stdout",
     "output_type": "stream",
     "text": [
      "{'C': 12}\n"
     ]
    }
   ],
   "source": [
    "print(grid_lr.best_params_)\n"
   ]
  },
  {
   "cell_type": "code",
   "execution_count": 123,
   "metadata": {
    "colab": {
     "base_uri": "https://localhost:8080/",
     "height": 100
    },
    "colab_type": "code",
    "id": "4EoNiGU39k0l",
    "outputId": "13bd7150-4187-43ca-acd1-1d4344fdb6dd"
   },
   "outputs": [
    {
     "data": {
      "text/plain": [
       "LogisticRegression(C=12, class_weight=None, dual=False, fit_intercept=True,\n",
       "                   intercept_scaling=1, l1_ratio=None, max_iter=100,\n",
       "                   multi_class='auto', n_jobs=None, penalty='l2',\n",
       "                   random_state=None, solver='lbfgs', tol=0.0001, verbose=0,\n",
       "                   warm_start=False)"
      ]
     },
     "execution_count": 123,
     "metadata": {
      "tags": []
     },
     "output_type": "execute_result"
    }
   ],
   "source": [
    "final_lr = LogisticRegression(C=12)\n",
    "final_lr.fit(xtrain_tfidf,train_y)"
   ]
  },
  {
   "cell_type": "code",
   "execution_count": 124,
   "metadata": {
    "colab": {
     "base_uri": "https://localhost:8080/",
     "height": 33
    },
    "colab_type": "code",
    "id": "8dXS4PQd9233",
    "outputId": "88dcb443-8879-4707-cace-7f054898fcc6"
   },
   "outputs": [
    {
     "name": "stdout",
     "output_type": "stream",
     "text": [
      "Logistic Regression > Accuracy:  0.7692307692307693\n"
     ]
    }
   ],
   "source": [
    "final_lr_predict = final_lr.predict(xvalid_tfidf)\n",
    "lr_accuracy = metrics.accuracy_score(final_lr_predict, valid_y)\n",
    "print (\"Logistic Regression > Accuracy: \", lr_accuracy)"
   ]
  },
  {
   "cell_type": "code",
   "execution_count": 84,
   "metadata": {
    "colab": {},
    "colab_type": "code",
    "id": "gsP3Y6rRAXJn"
   },
   "outputs": [],
   "source": [
    "final=pd.read_excel(\"Exit Reasons.xlsx\")"
   ]
  },
  {
   "cell_type": "code",
   "execution_count": 125,
   "metadata": {
    "colab": {},
    "colab_type": "code",
    "id": "Wn1qpNJs-Eej"
   },
   "outputs": [],
   "source": [
    "para=final_lr.predict(tfidf_vect.transform(final[\"Exit_Type_Reasons\"]))"
   ]
  },
  {
   "cell_type": "code",
   "execution_count": 169,
   "metadata": {
    "colab": {
     "base_uri": "https://localhost:8080/",
     "height": 217
    },
    "colab_type": "code",
    "id": "n9e88LYAAob6",
    "outputId": "b9a3a43c-506a-4ca7-b90c-5d9f562d4e75"
   },
   "outputs": [
    {
     "data": {
      "text/plain": [
       "Counter({0: 75,\n",
       "         1: 209,\n",
       "         2: 2632,\n",
       "         3: 1987,\n",
       "         4: 80,\n",
       "         5: 780,\n",
       "         6: 780,\n",
       "         7: 326,\n",
       "         8: 2443,\n",
       "         9: 2514,\n",
       "         10: 396,\n",
       "         11: 2193})"
      ]
     },
     "execution_count": 169,
     "metadata": {
      "tags": []
     },
     "output_type": "execute_result"
    }
   ],
   "source": [
    "from collections import Counter\n",
    "count=Counter(para)\n",
    "count"
   ]
  },
  {
   "cell_type": "code",
   "execution_count": 173,
   "metadata": {
    "colab": {
     "base_uri": "https://localhost:8080/",
     "height": 33
    },
    "colab_type": "code",
    "id": "fInMdcmqJFfx",
    "outputId": "4822acdd-52f5-4d21-e6da-f6b36572a79f"
   },
   "outputs": [
    {
     "data": {
      "text/plain": [
       "12"
      ]
     },
     "execution_count": 173,
     "metadata": {
      "tags": []
     },
     "output_type": "execute_result"
    }
   ],
   "source": [
    "len(count)"
   ]
  },
  {
   "cell_type": "code",
   "execution_count": 158,
   "metadata": {
    "colab": {
     "base_uri": "https://localhost:8080/",
     "height": 217
    },
    "colab_type": "code",
    "id": "lnG9owzAFfYz",
    "outputId": "feab7423-9f81-49ec-bc62-ebac9452e645"
   },
   "outputs": [
    {
     "data": {
      "text/plain": [
       "{'Age': 0,\n",
       " 'DistanceFromHome': 1,\n",
       " 'Family Problem': 2,\n",
       " 'High pressure job': 3,\n",
       " 'Marriage': 4,\n",
       " 'Medical Problems ': 5,\n",
       " 'PerformanceRating': 6,\n",
       " 'Redeployment': 7,\n",
       " 'communication gap': 8,\n",
       " 'growth-career progression': 9,\n",
       " 'higher education': 10,\n",
       " 'supervisor dissatisfaction': 11}"
      ]
     },
     "execution_count": 158,
     "metadata": {
      "tags": []
     },
     "output_type": "execute_result"
    }
   ],
   "source": [
    "d = dict(zip(df1[\"Parameters \"],para1))\n",
    "d"
   ]
  },
  {
   "cell_type": "code",
   "execution_count": 170,
   "metadata": {
    "colab": {
     "base_uri": "https://localhost:8080/",
     "height": 53
    },
    "colab_type": "code",
    "id": "JtCCCfB1GrXe",
    "outputId": "0a619a76-df58-479c-f8d0-dbb8f0460e93"
   },
   "outputs": [
    {
     "data": {
      "text/plain": [
       "dict_keys(['Family Problem', 'Age', 'Redeployment', 'DistanceFromHome', 'supervisor dissatisfaction', 'growth-career progression', 'higher education', 'Marriage', 'PerformanceRating', 'communication gap', 'High pressure job', 'Medical Problems '])"
      ]
     },
     "execution_count": 170,
     "metadata": {
      "tags": []
     },
     "output_type": "execute_result"
    }
   ],
   "source": [
    "d.keys()"
   ]
  },
  {
   "cell_type": "code",
   "execution_count": 176,
   "metadata": {
    "colab": {},
    "colab_type": "code",
    "id": "Wdp9OgUtIeXM"
   },
   "outputs": [],
   "source": [
    "paramters=[]\n",
    "Reasons=[]\n",
    "for i in range(len(count)):\n",
    "  for key, value in d.items():\n",
    "    if value==i:\n",
    "      paramters.append(key)\n",
    "      Reasons.append(count[i])\n"
   ]
  },
  {
   "cell_type": "code",
   "execution_count": 177,
   "metadata": {
    "colab": {},
    "colab_type": "code",
    "id": "1qu9RryiJjB9"
   },
   "outputs": [],
   "source": [
    "data=pd.DataFrame(list(zip(paramters,Reasons)), \n",
    "               columns =[\"paramters\",'No. of Reasons'])"
   ]
  },
  {
   "cell_type": "code",
   "execution_count": 178,
   "metadata": {
    "colab": {
     "base_uri": "https://localhost:8080/",
     "height": 405
    },
    "colab_type": "code",
    "id": "zAEBCJO6J3y8",
    "outputId": "ba299e49-bd3a-4e2e-8a64-d8f95dbb81ce"
   },
   "outputs": [
    {
     "data": {
      "text/html": [
       "<div>\n",
       "<style scoped>\n",
       "    .dataframe tbody tr th:only-of-type {\n",
       "        vertical-align: middle;\n",
       "    }\n",
       "\n",
       "    .dataframe tbody tr th {\n",
       "        vertical-align: top;\n",
       "    }\n",
       "\n",
       "    .dataframe thead th {\n",
       "        text-align: right;\n",
       "    }\n",
       "</style>\n",
       "<table border=\"1\" class=\"dataframe\">\n",
       "  <thead>\n",
       "    <tr style=\"text-align: right;\">\n",
       "      <th></th>\n",
       "      <th>paramters</th>\n",
       "      <th>No. of Reasons</th>\n",
       "    </tr>\n",
       "  </thead>\n",
       "  <tbody>\n",
       "    <tr>\n",
       "      <th>0</th>\n",
       "      <td>Age</td>\n",
       "      <td>75</td>\n",
       "    </tr>\n",
       "    <tr>\n",
       "      <th>1</th>\n",
       "      <td>DistanceFromHome</td>\n",
       "      <td>209</td>\n",
       "    </tr>\n",
       "    <tr>\n",
       "      <th>2</th>\n",
       "      <td>Family Problem</td>\n",
       "      <td>2632</td>\n",
       "    </tr>\n",
       "    <tr>\n",
       "      <th>3</th>\n",
       "      <td>High pressure job</td>\n",
       "      <td>1987</td>\n",
       "    </tr>\n",
       "    <tr>\n",
       "      <th>4</th>\n",
       "      <td>Marriage</td>\n",
       "      <td>80</td>\n",
       "    </tr>\n",
       "    <tr>\n",
       "      <th>5</th>\n",
       "      <td>Medical Problems</td>\n",
       "      <td>780</td>\n",
       "    </tr>\n",
       "    <tr>\n",
       "      <th>6</th>\n",
       "      <td>PerformanceRating</td>\n",
       "      <td>780</td>\n",
       "    </tr>\n",
       "    <tr>\n",
       "      <th>7</th>\n",
       "      <td>Redeployment</td>\n",
       "      <td>326</td>\n",
       "    </tr>\n",
       "    <tr>\n",
       "      <th>8</th>\n",
       "      <td>communication gap</td>\n",
       "      <td>2443</td>\n",
       "    </tr>\n",
       "    <tr>\n",
       "      <th>9</th>\n",
       "      <td>growth-career progression</td>\n",
       "      <td>2514</td>\n",
       "    </tr>\n",
       "    <tr>\n",
       "      <th>10</th>\n",
       "      <td>higher education</td>\n",
       "      <td>396</td>\n",
       "    </tr>\n",
       "    <tr>\n",
       "      <th>11</th>\n",
       "      <td>supervisor dissatisfaction</td>\n",
       "      <td>2193</td>\n",
       "    </tr>\n",
       "  </tbody>\n",
       "</table>\n",
       "</div>"
      ],
      "text/plain": [
       "                     paramters  No. of Reasons\n",
       "0                          Age              75\n",
       "1             DistanceFromHome             209\n",
       "2               Family Problem            2632\n",
       "3            High pressure job            1987\n",
       "4                     Marriage              80\n",
       "5            Medical Problems              780\n",
       "6            PerformanceRating             780\n",
       "7                 Redeployment             326\n",
       "8            communication gap            2443\n",
       "9    growth-career progression            2514\n",
       "10            higher education             396\n",
       "11  supervisor dissatisfaction            2193"
      ]
     },
     "execution_count": 178,
     "metadata": {
      "tags": []
     },
     "output_type": "execute_result"
    }
   ],
   "source": [
    "data"
   ]
  },
  {
   "cell_type": "code",
   "execution_count": null,
   "metadata": {
    "colab": {},
    "colab_type": "code",
    "id": "jm_LIH9TJ4r1"
   },
   "outputs": [],
   "source": []
  }
 ],
 "metadata": {
  "colab": {
   "name": "Attrition1",
   "provenance": []
  },
  "kernelspec": {
   "display_name": "Python 3",
   "language": "python",
   "name": "python3"
  },
  "language_info": {
   "codemirror_mode": {
    "name": "ipython",
    "version": 3
   },
   "file_extension": ".py",
   "mimetype": "text/x-python",
   "name": "python",
   "nbconvert_exporter": "python",
   "pygments_lexer": "ipython3",
   "version": "3.7.6"
  }
 },
 "nbformat": 4,
 "nbformat_minor": 1
}
